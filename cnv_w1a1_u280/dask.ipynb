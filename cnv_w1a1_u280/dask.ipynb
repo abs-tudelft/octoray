{
 "cells": [
  {
   "cell_type": "markdown",
   "metadata": {},
   "source": [
    "## Introduction\n",
    "This notebook demonstrates how to scale the CIFAR-10 image classification task using multiple FPGAs.\n",
    "In the first step, we define the experiment configurations and create a cluster configuration file."
   ]
  },
  {
   "cell_type": "markdown",
   "metadata": {},
   "source": [
    "### Define experiment parameters:\n",
    "\n",
    "BATCH_SIZES => A list of different batch sizes (number of images) we would like to run this experiment for.\n",
    "\n",
    "PLATFORM => One of the two supported platforms by the driver (alveo/zynq-iodma)\n",
    "\n",
    "XCLBIN_PATH_ => The path to the .xclbin file\n",
    "\n",
    "DEVICE_NAME_DEFAULT => Default name for the FPGA device if one not provided via command line args\n",
    "\n",
    "XRT_ENV_PATH => The path to the setup file that can be used to source the XRT environment\n",
    "\n",
    "SPAWN_PATH => The path where the dask workers are spawned on the host machines"
   ]
  },
  {
   "cell_type": "code",
   "execution_count": 1,
   "metadata": {},
   "outputs": [],
   "source": [
    "BATCH_SIZES = [100,500,2000]\n",
    "\n",
    "PLATFORM = \"alveo\"\n",
    "\n",
    "XCLBIN_PATH_SINGLE = \"bitstreams/a_u280.xclbin\"\n",
    "\n",
    "XCLBIN_PATH_DOUBLE = \"bitstreams/a_u280_2cu.xclbin\"\n",
    "\n",
    "DEVICE_NAME_DEFAULT = \"xilinx_u280_xdma_201920_3\"\n",
    "\n",
    "XRT_ENV_PATH = \"/opt/xilinx/xrt/setup.sh\"\n",
    "\n",
    "SPAWN_PATH = <spawn_directory>\n"
   ]
  },
  {
   "cell_type": "markdown",
   "metadata": {},
   "source": [
    "### Cluster configuration\n",
    "The cluster configuration is used by OctoRay to set up the cluster. The configuration is identical to the Dask SSH Cluster found at: https://docs.dask.org/en/stable/deploying-ssh.html  \n",
    "In addition, the **xrt** and **dir** keywords can be used to specify the path to the XRT setup file and the worker's spawn paths.  \n",
    "The **overlay** keyword is used to specify the bitstream used. By passing a list of bitstreams it is possible to configure different bit streams on different hosts. The list must be the same length as the number of hosts.  \n",
    "  \n",
    "In this example a configuration is specified for two hosts. The first host uses a single instance bitstream and therefore a single worker is specified in the worker options. As the second host uses a double bitstream, the number of workers is specifed to 2."
   ]
  },
  {
   "cell_type": "code",
   "execution_count": 2,
   "metadata": {},
   "outputs": [],
   "source": [
    "import json\n",
    "cluster_config = {\n",
    "    \"scheduler\":\"10.1.212.130\",\n",
    "    \"hosts\":[\"10.1.212.130\"], \n",
    "    \"connect_options\":{\"port\":22,\"xrt\":XRT_ENV_PATH,\"dir\":SPAWN_PATH},\n",
    "    \"worker_options\":{\"nthreads\":1,\"n_workers\":2,\"preload\":\"pynqimport.py\",\"nanny\":\"0\",\"memory_limit\":0},\n",
    "    \"scheduler_options\":{\"port\":8786},\n",
    "\n",
    "    \"worker_class\":\"distributed.Worker\",\n",
    "    \"overlay\": XCLBIN_PATH_DOUBLE,\n",
    "}\n",
    "\n",
    "with open(\"cluster_config.json\",\"w\") as f:\n",
    "    json.dump(cluster_config,f)\n",
    "\n"
   ]
  },
  {
   "cell_type": "markdown",
   "metadata": {},
   "source": [
    "### Download dataset\n",
    "Download a numpy-array formatted CIFAR-10 dataset to the current directory:"
   ]
  },
  {
   "cell_type": "code",
   "execution_count": null,
   "metadata": {},
   "outputs": [],
   "source": [
    "!wget https://raw.githubusercontent.com/modestyachts/CIFAR-10.1/master/datasets/cifar10.1_v4_data.npy"
   ]
  },
  {
   "cell_type": "markdown",
   "metadata": {
    "tags": []
   },
   "source": [
    "### Define the worker method\n",
    "\n",
    "Here, we define the Python method which will be executed on each of the Dask workers. This function calls the driver using the data partition it receives, and returns the output data (along with some performance statistics) to the caller (the OctoRay client)\n"
   ]
  },
  {
   "cell_type": "code",
   "execution_count": 3,
   "metadata": {},
   "outputs": [],
   "source": [
    "def run_on_worker(ibuf_normal, kernel, index):\n",
    "    import numpy as np\n",
    "    import time\n",
    "    from driver import FINNAccelDriver\n",
    "    from pynq.ps import Clocks\n",
    "    import os\n",
    "    \n",
    "    t0_total = time.time()\n",
    "\n",
    "    batch_size = len(ibuf_normal) \n",
    "    device_name = kernel[\"device\"]\n",
    "    xclbin_path = kernel[\"path_to_bitstream\"]\n",
    "\n",
    "\n",
    "    finnDriver = FINNAccelDriver(batch_size, xclbin_path, platform=PLATFORM, device_name=device_name, kernel=kernel)\n",
    "    ibuf_folded = finnDriver.fold_input(ibuf_normal)\n",
    "    ibuf_packed = ibuf_folded\n",
    "    finnDriver.copy_input_data_to_device(ibuf_packed)\n",
    "    \n",
    "    t0 = time.time()\n",
    "    finnDriver.execute()\n",
    "    t1 = time.time()\n",
    "    \n",
    "    obuf_packed = np.empty_like(finnDriver.obuf_packed_device)\n",
    "    finnDriver.copy_output_data_from_device(obuf_packed)\n",
    "    obuf_folded = finnDriver.unpack_output(obuf_packed)\n",
    "    obuf_normal = finnDriver.unfold_output(obuf_folded)\n",
    "\n",
    "    if PLATFORM != \"alveo\":\n",
    "        fclk_mhz = Clocks.fclk0_mhz\n",
    "    else:\n",
    "        fclk_mhz = finnDriver.fclk_mhz\n",
    "    runtime = t1-t0\n",
    "    \n",
    "    t1_total = time.time()\n",
    "\n",
    "\n",
    "    return {\n",
    "        'data': obuf_normal,\n",
    "        'runtime': runtime,\n",
    "        'index': index,\n",
    "        'fclk_mhz': fclk_mhz,\n",
    "        'throughput': batch_size/runtime,\n",
    "        'bandwidth_in': np.prod(finnDriver.ishape_packed)*0.000001 / runtime,\n",
    "        'bandwidth_out': np.prod(finnDriver.oshape_packed)*0.000001 / runtime,\n",
    "        'N': batch_size\n",
    "\n",
    "    }\n",
    "\n"
   ]
  },
  {
   "cell_type": "markdown",
   "metadata": {},
   "source": [
    "### Create the cluster\n",
    "\n",
    "Create the octoray object by specifying the cluster configuration and whether automatic deployment is wished.\n",
    "If the ssh_cluster is set to true, the create_cluster method spawns Dask worker processes on the hosts according to the configuration. If ssh_cluster is set to False, a client is created that is attached to the existing cluster.\n"
   ]
  },
  {
   "cell_type": "code",
   "execution_count": 4,
   "metadata": {},
   "outputs": [
    {
     "name": "stdout",
     "output_type": "stream",
     "text": [
      "Initializing OctoRay with client ip: 10.1.212.130\n"
     ]
    },
    {
     "name": "stderr",
     "output_type": "stream",
     "text": [
      "distributed.deploy.ssh - INFO - distributed.http.proxy - INFO - To route to workers diagnostics web server please install jupyter-server-proxy: python -m pip install jupyter-server-proxy\n",
      "distributed.deploy.ssh - INFO - distributed.scheduler - INFO - Clear task state\n",
      "distributed.deploy.ssh - INFO - distributed.scheduler - INFO -   Scheduler at:   tcp://10.1.212.130:8786\n",
      "distributed.deploy.ssh - INFO - distributed.diskutils - INFO - Found stale lock file and directory '/home/ldierick/octoray/cnv_w1a1_u280/dask-worker-space/worker-k6io_j8a', purging\n",
      "distributed.deploy.ssh - INFO - distributed.diskutils - INFO - Found stale lock file and directory '/home/ldierick/octoray/cnv_w1a1_u280/dask-worker-space/worker-trnwewyb', purging\n",
      "distributed.deploy.ssh - INFO - distributed.diskutils - INFO - Found stale lock file and directory '/home/ldierick/octoray/cnv_w1a1_u280/dask-worker-space/worker-3ugtlsxj', purging\n",
      "distributed.deploy.ssh - INFO - distributed.utils - INFO - Reload module pynqimport from .py file\n",
      "distributed.deploy.ssh - INFO - distributed.utils - INFO - Reload module pynqimport from .py file\n",
      "distributed.deploy.ssh - INFO - distributed.preloading - INFO - Import preload module: pynqimport.py\n",
      "distributed.deploy.ssh - INFO - distributed.preloading - INFO - Import preload module: pynqimport.py\n",
      "distributed.deploy.ssh - INFO - distributed.worker - INFO -       Start worker at:   tcp://10.1.212.130:45781\n",
      "distributed.deploy.ssh - INFO - distributed.worker - INFO -       Start worker at:   tcp://10.1.212.130:34449\n"
     ]
    },
    {
     "name": "stdout",
     "output_type": "stream",
     "text": [
      "Waiting until workers are set up on remote machines...\n",
      "Current amount of workers: 2\n"
     ]
    }
   ],
   "source": [
    "import time\n",
    "import numpy as np\n",
    "import json\n",
    "from octoray import Octoray\n",
    "\n",
    "# Initialiaze octoray with automatic cluster deployment\n",
    "octoray = Octoray(ssh_cluster=True, cluster_config=cluster_config)\n",
    "\n",
    "# create the cluster\n",
    "octoray.create_cluster()\n"
   ]
  },
  {
   "cell_type": "markdown",
   "metadata": {},
   "source": [
    "### Run the example\n",
    "Here we run the example by pursuing the following steps:\n",
    "\n",
    "1. Create kernels such that the amount of workers and the bitstreams match with the cluster configurations\n",
    "2. Divide the input data over the kernels\n",
    "3. Submit the *run_on_worker* defined above to the scheduler, which will run it on all the workers.\n",
    "4. Collect and merge the results"
   ]
  },
  {
   "cell_type": "code",
   "execution_count": 6,
   "metadata": {},
   "outputs": [
    {
     "name": "stdout",
     "output_type": "stream",
     "text": [
      "TOTAL EXECUTION TIME: 0.5182743072509766\n",
      "Maximum FPGA runtime[s]: 0.01836419105529785\n",
      "Average throughput per node[images/s]: 2757.7706404375767\n",
      "Total throughput[image/s]: 5445.380071405388\n",
      "[0.01836419105529785, 0.017902851104736328]\n",
      "Average DRAM_in_bandwidth[Mb/s]: 8.471871407424235\n",
      "Average DRAM_out_bandwidth[Mb/s]: 0.0027577706404375768\n",
      "**************************\n",
      "TOTAL EXECUTION TIME: 0.25197458267211914\n",
      "Maximum FPGA runtime[s]: 0.08391451835632324\n",
      "Average throughput per node[images/s]: 2980.9255757270957\n",
      "Total throughput[image/s]: 5958.444495586184\n",
      "[0.08381867408752441, 0.08391451835632324]\n",
      "Average DRAM_in_bandwidth[Mb/s]: 9.157403368633638\n",
      "Average DRAM_out_bandwidth[Mb/s]: 0.002980925575727096\n",
      "**************************\n",
      "TOTAL EXECUTION TIME: 0.5220537185668945\n",
      "Maximum FPGA runtime[s]: 0.33107662200927734\n",
      "Average throughput per node[images/s]: 3020.769741580498\n",
      "Total throughput[image/s]: 6040.8976866507855\n",
      "[0.33107662200927734, 0.3310062885284424]\n",
      "Average DRAM_in_bandwidth[Mb/s]: 9.27980464613529\n",
      "Average DRAM_out_bandwidth[Mb/s]: 0.003020769741580498\n",
      "**************************\n",
      "total time for all batches: 1.2941336631774902\n"
     ]
    }
   ],
   "source": [
    "import time\n",
    "import numpy as np\n",
    "import json\n",
    "\n",
    "\n",
    "# load dataset\n",
    "full_cifar = np.load('cifar10.1_v4_data.npy')\n",
    "\n",
    "execution_times = []\n",
    "\n",
    "T = time.time()\n",
    "\n",
    "\n",
    "for BATCH_SIZE in BATCH_SIZES:\n",
    "    \n",
    "    t0 = time.time()\n",
    "    cnn_kernels = []\n",
    "    \n",
    "    \n",
    "    # A single instance CNN kernel\n",
    "    # cnn_kernels.append(octoray.create_kernel(XCLBIN_PATH_SINGLE,1,int(BATCH_SIZE/octoray.num_of_workers),[[{\"idma0\":[\"DDR0\"]},{\"odma0\":[\"DDR0\"]}]],host=\"10.1.212.126\",device=DEVICE_NAME_DEFAULT))\n",
    "\n",
    "    # A double instance CNN kernel\n",
    "    cnn_kernels.append(octoray.create_kernel(XCLBIN_PATH_DOUBLE,2,int(BATCH_SIZE/(octoray.num_of_workers)), [[{\"idma0\":[\"HBM0\"]},{\"odma0\":[\"HBM0\"]}],[{\"idma1\":[\"HBM1\"]},{\"odma1\":[\"HBM1\"]}]],host=\"10.1.212.130\", device=DEVICE_NAME_DEFAULT))\n",
    "    \n",
    "    \n",
    "    # In the case of multiple instances, subdivide the kernels over the number of instances\n",
    "    kernels_split = octoray.split_kernels(cnn_kernels)\n",
    "    \n",
    "    \n",
    "    # Divide the data set over the kernels based on batch size per instance\n",
    "    data_split = octoray.split_data(full_cifar[:BATCH_SIZE],kernels_split)\n",
    "    \n",
    "    # Launch the tasks after scattering the data and kernels to the correct workers\n",
    "    results = octoray.execute_hybrid(run_on_worker,data_split,kernels_split)\n",
    "\n",
    "    # Reorder the response based on the original input order\n",
    "    results.sort(key = lambda result: result['index'])  \n",
    "\n",
    "    # Concatenate the result where each is an ndarray of the shape (BATCH_SIZE/num_of_workers, 1)\n",
    "    merged_result = np.concatenate([r['data'] for r in results]) # FINAL RESULTS (CLASS LABELS)\n",
    "\n",
    "    t1 = time.time()\n",
    "    max_fpga_runtime = max([r['runtime'] for r in results])\n",
    "   \n",
    "    def avg(li):\n",
    "        return sum(li)/len(li)\n",
    "\n",
    "   \n",
    "    print(\"TOTAL EXECUTION TIME:\", t1-t0)\n",
    "    print(\"Maximum FPGA runtime[s]:\", max_fpga_runtime) # Shown in the plot\n",
    "    print(\"Average throughput per node[images/s]:\", avg([r['throughput'] for r in results]))\n",
    "    print(\"Total throughput[image/s]:\", BATCH_SIZE/ np.max([r['runtime'] for r in results]))\n",
    "    print([r[\"runtime\"] for r in results])\n",
    "    print(\"Average DRAM_in_bandwidth[Mb/s]:\", avg([r['bandwidth_in'] for r in results])) \n",
    "    print(\"Average DRAM_out_bandwidth[Mb/s]:\", avg([r['bandwidth_out'] for r in results]))    \n",
    "    print(\"**************************\")   \n",
    "    execution_times.append(max_fpga_runtime)\n",
    "\n",
    "    \n",
    "print(f\"total time for all batches: {time.time()-T}\")\n",
    "\n"
   ]
  },
  {
   "cell_type": "markdown",
   "metadata": {},
   "source": [
    "### Shutdown OctoRay\n",
    "When using an OpenSSH version < 7.9, OctoRay needs to be forcefully shut down with the fshutdown function. This is because the signal channel isn't implemented in these versions of OpenSSH as explained in: https://github.com/ronf/asyncssh/issues/112"
   ]
  },
  {
   "cell_type": "code",
   "execution_count": null,
   "metadata": {},
   "outputs": [],
   "source": [
    "await octoray.fshutdown()"
   ]
  },
  {
   "cell_type": "markdown",
   "metadata": {},
   "source": [
    "### Generate a performance plot\n",
    "Plot the execution times for different batch sizes. Here, we plot the maximum FPGA execution times from all the workers. This time includes the data buffering time to/from the FPGA and the actual inference time. To plot the total end-to-end time instead, replace the *execution_times* variable below with the *end_to_end_times* variable."
   ]
  },
  {
   "cell_type": "code",
   "execution_count": 7,
   "metadata": {},
   "outputs": [
    {
     "data": {
      "text/plain": [
       "<Figure size 3600x3600 with 0 Axes>"
      ]
     },
     "metadata": {},
     "output_type": "display_data"
    },
    {
     "data": {
      "image/png": "[encoded data removed]",
      "text/plain": [
       "<Figure size 432x288 with 1 Axes>"
      ]
     },
     "metadata": {
      "needs_background": "light"
     },
     "output_type": "display_data"
    }
   ],
   "source": [
    "import numpy as np\n",
    "import matplotlib.pyplot as plt\n",
    "f = plt.figure(figsize=(50,50))\n",
    "x = BATCH_SIZES[:3]\n",
    "f = plt.figure()\n",
    "\n",
    "y2 = execution_times\n",
    "plt.plot(x, y2, label = \"1 FPGAs\", marker='x')\n",
    "\n",
    "plt.xlabel('Batch size (no. of images)')\n",
    "plt.ylabel('Time taken to classify (in s)')\n",
    "plt.title('FINN CNV + Cifar-10 performance demo')\n",
    "\n",
    "plt.legend()\n",
    "plt.grid()\n",
    "\n",
    "# f.savefig(\"cnv-1-vs-2.png\", bbox_inches='tight', dpi=150)"
   ]
  },
  {
   "cell_type": "markdown",
   "metadata": {},
   "source": [
    "### Measure scaling benefits\n",
    "To measure the benefits of scaling, run this notebook again after creating or destroying one or more Dask workers. Then compare the plots above to see the speedup."
   ]
  }
 ],
 "metadata": {
  "kernelspec": {
   "display_name": "Python 3",
   "language": "python",
   "name": "python3"
  },
  "language_info": {
   "codemirror_mode": {
    "name": "ipython",
    "version": 3
   },
   "file_extension": ".py",
   "mimetype": "text/x-python",
   "name": "python",
   "nbconvert_exporter": "python",
   "pygments_lexer": "ipython3",
   "version": "3.7.4"
  }
 },
 "nbformat": 4,
 "nbformat_minor": 4
}
